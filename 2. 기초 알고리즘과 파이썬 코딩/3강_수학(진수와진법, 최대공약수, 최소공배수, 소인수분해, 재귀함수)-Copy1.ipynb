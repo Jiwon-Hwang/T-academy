{
 "cells": [
  {
   "cell_type": "markdown",
   "metadata": {},
   "source": [
    "### 최대공약수, 최소공배수\n",
    "* 최대공약수 : a, b 중 더 작은 수까지만 체크해도 됨. 거꾸로 체크해나가기\n",
    "* 최소공배수"
   ]
  },
  {
   "cell_type": "markdown",
   "metadata": {},
   "source": [
    "#### 유클리드 호제법 (**암기!!**)\n",
    "GCD(a, b) = GCD(b, a % b)"
   ]
  },
  {
   "cell_type": "code",
   "execution_count": 1,
   "metadata": {},
   "outputs": [],
   "source": [
    "# 최대공약수(gcd) sol1\n",
    "def gcd(a, b):\n",
    "    ret = 0\n",
    "    for i in range(min(a, b)): # 1부터 체크\n",
    "        if a % i == 0 and b % i == 0:\n",
    "            ret = i\n",
    "    return ret"
   ]
  },
  {
   "cell_type": "code",
   "execution_count": 2,
   "metadata": {},
   "outputs": [],
   "source": [
    "# 최대공약수(gcd) sol2 => fast(가장 큰 수부터 체크해서 조건 만족시 ret)\n",
    "def gcd(a, b):\n",
    "    for i in range(min(a, b), 0, -1): # min(a, b)부터 거꾸로 체크\n",
    "        if a % i == 0 and b % i == 0:\n",
    "            return i"
   ]
  },
  {
   "cell_type": "code",
   "execution_count": 3,
   "metadata": {},
   "outputs": [],
   "source": [
    "# 최대공약수(gcd) sol3 (유클리드 호제법)\n",
    "def gcd(a, b):\n",
    "    return b if a % b == 0 else gcd(b, a % b)\n",
    "# a가 b의 배수일 때에는 작은 수인 b를 return, 아니면 재귀로 반복"
   ]
  },
  {
   "cell_type": "markdown",
   "metadata": {},
   "source": [
    "### 소인수분해"
   ]
  },
  {
   "cell_type": "markdown",
   "metadata": {},
   "source": [
    "#### 소수 판별법 (isPrime)\n",
    "* 소수 : 자기 자신 & 1만을 약수로 갖는 수"
   ]
  },
  {
   "cell_type": "code",
   "execution_count": 4,
   "metadata": {},
   "outputs": [],
   "source": [
    "# sol1) 2부터 N-1까지 체크. O(N)\n",
    "def isPrime(N):\n",
    "    for i in range(2, N):\n",
    "        if N % i == 0 : return False # 하나라도 약수 있으면 소수 x\n",
    "    return True"
   ]
  },
  {
   "cell_type": "code",
   "execution_count": 6,
   "metadata": {},
   "outputs": [],
   "source": [
    "# sol2) 2부터 sqrt(N)까지 체크. O(sqrt(N)) => fast\n",
    "def isPrime(N):\n",
    "    i = 2\n",
    "    while i * i <= N: # 중간 지점까지만 약수 있는지 체크(제곱해서 체크)\n",
    "        if N % i == 0: return False\n",
    "        i += 1\n",
    "    return True"
   ]
  },
  {
   "cell_type": "markdown",
   "metadata": {},
   "source": [
    "#### 에라토스테네스의 체\n",
    "* 소수를 구하는 방법\n",
    "* 2부터 시작해서 소수 2를 빼고 2의배수들을 모두 지우고, 그 다음 3의 배수, 5의 배수들을 지우고.. 반복"
   ]
  },
  {
   "cell_type": "code",
   "execution_count": 7,
   "metadata": {},
   "outputs": [],
   "source": [
    "def era(N):\n",
    "    ck, p = [False for _ in range(N+1)], [] # ck : check, p : prime(소수)\n",
    "    for i in range(2, N+1):\n",
    "        if ck[i] == True : continue # 만약 True로 지워졌으면(즉, 소수x)\n",
    "        p.append(i) # 아직 지워지지 않은 수들(소수)은 소수들 배열인 p에 추가\n",
    "        for j in range(i*i, N+1, i): # 3인 경우엔 그다음 배수인 6은 이미 2의 배수로\n",
    "                                     # 지워졌으므로, 3*3=9 부터 지우면 됨\n",
    "            ck[j] = True\n",
    "    return ck, p"
   ]
  },
  {
   "cell_type": "markdown",
   "metadata": {},
   "source": [
    "### 분할정복(Divide & Conquer)\n",
    "* 문제를 분해\n",
    "* 재귀함수의 활용\n",
    "> 즉, **재귀함수**를 이용해서 **문제를 분해**하는 것"
   ]
  }
 ],
 "metadata": {
  "kernelspec": {
   "display_name": "Python 3",
   "language": "python",
   "name": "python3"
  },
  "language_info": {
   "codemirror_mode": {
    "name": "ipython",
    "version": 3
   },
   "file_extension": ".py",
   "mimetype": "text/x-python",
   "name": "python",
   "nbconvert_exporter": "python",
   "pygments_lexer": "ipython3",
   "version": "3.8.5"
  }
 },
 "nbformat": 4,
 "nbformat_minor": 4
}
