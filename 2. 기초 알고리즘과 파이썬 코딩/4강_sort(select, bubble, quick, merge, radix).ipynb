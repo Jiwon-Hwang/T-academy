{
 "cells": [
  {
   "cell_type": "markdown",
   "metadata": {},
   "source": [
    "### 선택정렬 (selection sort)\n",
    "* 주어진 배열에서 최솟값을 계속 찾아서 맨 앞부터 현재 인덱스와 바꾸기 (앞으로 하나씩 옮겨오기)\n",
    "* 시간복잡도 : O(N2) => N + N-1 + N-2 + ... + 1"
   ]
  },
  {
   "cell_type": "markdown",
   "metadata": {},
   "source": [
    "### 버블정렬 (bubble sort)\n",
    "* 앞에서부터 2개씩 비교하면서 큰 수가 작은 수보다 앞에 있으면 그 두 개의 순서를 바꿔나감\n",
    "* 즉, 각 과정에서 가장 큰 수는 맨 뒤에 쌓이게 됨\n",
    "* 시간복잡도 : O(N2) => N + N-1 + N-2 + ... + 1"
   ]
  },
  {
   "cell_type": "markdown",
   "metadata": {},
   "source": [
    "> But, O(N2)의 시간복잡도는 알고리즘을 해결하기엔 긴 시간!"
   ]
  },
  {
   "cell_type": "markdown",
   "metadata": {},
   "source": [
    "### 쾌속정렬 (quick sort)\n",
    "* 앞에서부터 하나씩 가운데에 두고 왼쪽엔 그 피벗보다 작은 수들, 오른쪽엔 더 큰 수들이 오게 옮기는 과정을 반복한다\n",
    "* 시간복잡도 : O(NlogN) => T(N) = 2T(N/2) + N \n",
    "> * T(N) : N개의 수들을 정렬하는데 걸리는 총 시간\n",
    "> * 2T(N/2) : 양쪽 각각 절반씩 정렬하는데 걸리는 시간\n",
    "> * N : 각 피벗 기준으로 왼쪽, 오른쪽 대소 비교하려면 전체 다 봐야 함  \n",
    "   \n",
    "* But, 87654321처럼 역으로 정렬되어 있는 경우엔 최악 (N2)"
   ]
  },
  {
   "cell_type": "markdown",
   "metadata": {},
   "source": [
    "### 합병정렬 (merge sort)\n",
    "* 2 pointer 개념을 사용해서 반으로 계속 쪼개고 두 덩어리씩 계속 합치는 과정\n",
    "* 시간복잡도 : O(NlogN) => T(N) = 2T(N/2) + N \n",
    "* Quick Sort와 차이점 : 안정적이지만 메모리 할당을 많이 해야 함"
   ]
  },
  {
   "cell_type": "markdown",
   "metadata": {},
   "source": [
    "### 기수정렬 (radix sort)\n",
    "* 메모리가 넘쳐날 때 쓰는 정렬 알고리즘\n",
    "* 큰 배열 만들어 놓고 각 인덱스에 해당하는 숫자가 각각 몇개씩 있는지 센 후 하나씩 다시 정렬"
   ]
  }
 ],
 "metadata": {
  "kernelspec": {
   "display_name": "Python 3",
   "language": "python",
   "name": "python3"
  },
  "language_info": {
   "codemirror_mode": {
    "name": "ipython",
    "version": 3
   },
   "file_extension": ".py",
   "mimetype": "text/x-python",
   "name": "python",
   "nbconvert_exporter": "python",
   "pygments_lexer": "ipython3",
   "version": "3.8.5"
  }
 },
 "nbformat": 4,
 "nbformat_minor": 4
}
