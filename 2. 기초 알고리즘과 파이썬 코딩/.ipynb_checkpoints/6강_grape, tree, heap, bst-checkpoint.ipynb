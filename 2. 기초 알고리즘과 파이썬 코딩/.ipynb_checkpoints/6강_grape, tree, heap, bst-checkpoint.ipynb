{
 "cells": [
  {
   "cell_type": "markdown",
   "metadata": {},
   "source": [
    "### 그래프 (grape)\n",
    "* sparse한 그래프(0이 많은, 연결이 적은 그래프)? => **인접리스트**! \n",
    "    * 리스트의 1번 인덱스 : [(2, 3), (4, 5)] 저장\n",
    "    * 즉, 1번 노드와 2번 노드가 가중치 3으로, 4번 노드와는 가중치 5로 연결됨  \n",
    "      \n",
    "* 보통의 그래프 저장 방법? : **인접 행렬**!\n",
    "    * 가중치 추가 가능\n",
    "    * 방향성 x : 대칭\n",
    "    * 방향성 o : 대칭 x"
   ]
  },
  {
   "cell_type": "markdown",
   "metadata": {},
   "source": [
    "### 트리 (tree)\n",
    "* 특수한 구조를 가진 그래프\n",
    "* 상위, 하위 관계 존재\n",
    "* 모든 노드가 연결되어 있어야 하고, 사이클 존재 x\n",
    "* 이진 트리 (Binary Tree) : 자식 노드가 최대 2개인 트리\n",
    "    * **이진 트리**를 사용한 자료 구조 : **heap, bst**"
   ]
  },
  {
   "cell_type": "markdown",
   "metadata": {},
   "source": [
    "### 힙 (heap)\n",
    "* 우선순위가 가장 높은 값을 루트 노드로 만들기\n",
    "* 최댓값은 가장 맨 위 루트에 위치하게 됨\n",
    "* **우선순위 큐(priority queue)** 를 위해 고안된 완전이진트리"
   ]
  },
  {
   "cell_type": "markdown",
   "metadata": {},
   "source": [
    "### 이진검색트리 (bst)\n",
    "* Binary Search Tree\n",
    "* 루트보다 작은 수는 왼쪽에, 큰 수는 오른쪽에\n",
    "* 장점 : 숫자를 검색하는 시간이 빠름\n",
    "* 단점 : 최악의 경우에는 한 쪽에 치우치는 형태로 저장됨"
   ]
  }
 ],
 "metadata": {
  "kernelspec": {
   "display_name": "Python 3",
   "language": "python",
   "name": "python3"
  },
  "language_info": {
   "codemirror_mode": {
    "name": "ipython",
    "version": 3
   },
   "file_extension": ".py",
   "mimetype": "text/x-python",
   "name": "python",
   "nbconvert_exporter": "python",
   "pygments_lexer": "ipython3",
   "version": "3.8.5"
  }
 },
 "nbformat": 4,
 "nbformat_minor": 4
}
