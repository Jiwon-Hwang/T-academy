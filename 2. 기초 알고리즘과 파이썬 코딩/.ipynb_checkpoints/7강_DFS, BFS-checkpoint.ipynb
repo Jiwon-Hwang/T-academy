{
 "cells": [
  {
   "cell_type": "markdown",
   "metadata": {},
   "source": [
    "### DFS (깊이 우선 탐색)\n",
    "* Depth First Search\n",
    "* 스택(stack)으로 구현\n",
    "* 모든 것들을 다 찾아봐야 할 때 이용\n",
    "* ex. floodfill"
   ]
  },
  {
   "cell_type": "markdown",
   "metadata": {},
   "source": [
    "### BFS (너비 우선 탐색)\n",
    "* Breadth First Search\n",
    "* 큐(queue)로 구현\n",
    "* 특정 횟수 n회 내로 찾을 수 있을 때 이용"
   ]
  }
 ],
 "metadata": {
  "kernelspec": {
   "display_name": "Python 3",
   "language": "python",
   "name": "python3"
  },
  "language_info": {
   "codemirror_mode": {
    "name": "ipython",
    "version": 3
   },
   "file_extension": ".py",
   "mimetype": "text/x-python",
   "name": "python",
   "nbconvert_exporter": "python",
   "pygments_lexer": "ipython3",
   "version": "3.8.5"
  }
 },
 "nbformat": 4,
 "nbformat_minor": 4
}
