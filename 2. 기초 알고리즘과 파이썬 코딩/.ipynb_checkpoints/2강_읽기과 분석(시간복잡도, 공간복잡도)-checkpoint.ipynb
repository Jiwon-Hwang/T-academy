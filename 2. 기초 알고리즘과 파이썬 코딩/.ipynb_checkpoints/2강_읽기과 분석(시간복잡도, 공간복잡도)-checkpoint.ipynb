{
 "cells": [
  {
   "cell_type": "markdown",
   "metadata": {},
   "source": [
    "### 입력의 대표적인 사례 3가지\n",
    "* 수\n",
    "* 문자열 (문자 배열)\n",
    "* 배열"
   ]
  },
  {
   "cell_type": "code",
   "execution_count": 8,
   "metadata": {},
   "outputs": [
    {
     "name": "stdout",
     "output_type": "stream",
     "text": [
      "12345\n",
      "12345\n"
     ]
    }
   ],
   "source": [
    "# 수 입력받기 (with 형변환)\n",
    "num = int(input()) # int()안의 인자 : 문자열\n",
    "print(num)"
   ]
  },
  {
   "cell_type": "code",
   "execution_count": 9,
   "metadata": {},
   "outputs": [
    {
     "name": "stdout",
     "output_type": "stream",
     "text": [
      "abcde\n",
      "['abcde']\n"
     ]
    }
   ],
   "source": [
    "str_split = input().split() # split() : 문자열 메소드. 공백이나 특정 문자 기준으로 쪼개서 리스트로 저장\n",
    "print(str_split)"
   ]
  },
  {
   "cell_type": "code",
   "execution_count": 3,
   "metadata": {},
   "outputs": [
    {
     "name": "stdout",
     "output_type": "stream",
     "text": [
      "abcde\n",
      "abcde\n"
     ]
    }
   ],
   "source": [
    "# 문자열 입력받기\n",
    "string = input()\n",
    "print(string)"
   ]
  },
  {
   "cell_type": "code",
   "execution_count": 5,
   "metadata": {
    "scrolled": true
   },
   "outputs": [
    {
     "name": "stdout",
     "output_type": "stream",
     "text": [
      "abcde\n",
      "['a', 'b', 'c', 'd', 'e']\n"
     ]
    }
   ],
   "source": [
    "# 문자열 입력받기 (문자 리스트로 바로 변환)\n",
    "char_lst = list(input())\n",
    "print(char_lst)"
   ]
  },
  {
   "cell_type": "code",
   "execution_count": 13,
   "metadata": {},
   "outputs": [
    {
     "name": "stdout",
     "output_type": "stream",
     "text": [
      "1 2 3 4 5\n",
      "[1, 2, 3, 4, 5]\n"
     ]
    }
   ],
   "source": [
    "# 숫자 배열 입력받아서 숫자 리스트로 바로 변환\n",
    "lst = list(map(int, input().split())) \n",
    "print(lst)"
   ]
  },
  {
   "cell_type": "markdown",
   "metadata": {},
   "source": [
    "### 가독성 : indent를 줄이자\n",
    "조건문, 반복문, 함수 모두 줄일 부분 존재"
   ]
  },
  {
   "cell_type": "markdown",
   "metadata": {},
   "source": [
    "#### case 1 : 3중 for문을 하나의 for문으로 바꾸기"
   ]
  },
  {
   "cell_type": "code",
   "execution_count": null,
   "metadata": {},
   "outputs": [],
   "source": [
    "# bad\n",
    "for i in range(N):\n",
    "    for j in range(N):\n",
    "        for k in range(N):\n",
    "            # i, j, k process"
   ]
  },
  {
   "cell_type": "code",
   "execution_count": null,
   "metadata": {},
   "outputs": [],
   "source": [
    "# good (진법 이용)\n",
    "for num in range(N**3):\n",
    "    i, j, k = num // (N*N), num // N % N, num % N  # // : 몫 연산자, / : 나누기 연산자, % : 나머지 연산자\n",
    "    # i, j, k process"
   ]
  },
  {
   "cell_type": "markdown",
   "metadata": {},
   "source": [
    "#### case 2 : 안되는 경우를 continue를 통해 배제"
   ]
  },
  {
   "cell_type": "code",
   "execution_count": null,
   "metadata": {},
   "outputs": [],
   "source": [
    "# bad\n",
    "for i in range(N):\n",
    "    if state:\n",
    "        process() # 필요없는 indent"
   ]
  },
  {
   "cell_type": "code",
   "execution_count": null,
   "metadata": {},
   "outputs": [],
   "source": [
    "# good\n",
    "for i in range(N):\n",
    "    if not state : continue\n",
    "    process() # 반복문 내부의 indent 줄이기"
   ]
  },
  {
   "cell_type": "markdown",
   "metadata": {},
   "source": [
    "#### case 3 : return True, False 시 else를 줄이자"
   ]
  },
  {
   "cell_type": "code",
   "execution_count": null,
   "metadata": {},
   "outputs": [],
   "source": [
    "# bad\n",
    "def func1(x):\n",
    "    if x:\n",
    "        return True\n",
    "    else:\n",
    "        return False"
   ]
  },
  {
   "cell_type": "code",
   "execution_count": null,
   "metadata": {},
   "outputs": [],
   "source": [
    "# normal\n",
    "def func2(x):\n",
    "    if x : return True\n",
    "    return False"
   ]
  },
  {
   "cell_type": "code",
   "execution_count": null,
   "metadata": {},
   "outputs": [],
   "source": [
    "# good\n",
    "def func3(x):\n",
    "    return True if x else False # if else 3항 연산자의 활용 (if가 true이면 True return, 아니면 False return)"
   ]
  },
  {
   "cell_type": "markdown",
   "metadata": {},
   "source": [
    "### 명명법\n",
    "* 변수 : snake 표기법 (ex. str_list)\n",
    "* 함수 : 카멜 표기법 (ex. sumList)"
   ]
  }
 ],
 "metadata": {
  "kernelspec": {
   "display_name": "Python 3",
   "language": "python",
   "name": "python3"
  },
  "language_info": {
   "codemirror_mode": {
    "name": "ipython",
    "version": 3
   },
   "file_extension": ".py",
   "mimetype": "text/x-python",
   "name": "python",
   "nbconvert_exporter": "python",
   "pygments_lexer": "ipython3",
   "version": "3.8.5"
  }
 },
 "nbformat": 4,
 "nbformat_minor": 4
}
