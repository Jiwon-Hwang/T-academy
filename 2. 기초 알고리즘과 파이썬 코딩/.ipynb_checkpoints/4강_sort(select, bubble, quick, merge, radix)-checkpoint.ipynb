{
 "cells": [
  {
   "cell_type": "markdown",
   "metadata": {},
   "source": [
    "### 선택정렬 (selection sort)\n",
    "* 주어진 배열에서 최솟값을 계속 찾아서 맨 앞부터 현재 인덱스와 바꾸기 (앞으로 하나씩 옮겨오기)\n",
    "* 시간복잡도 : O(N2) => N + N-1 + N-2 + ... + 1"
   ]
  },
  {
   "cell_type": "markdown",
   "metadata": {},
   "source": [
    "### 버블정렬 (bubble sort)\n",
    "* 앞에서부터 2개씩 비교하면서 큰 수가 작은 수보다 앞에 있으면 그 두 개의 순서를 바꿔나감\n",
    "* 즉, 각 과정에서 가장 큰 수는 맨 뒤에 쌓이게 됨\n",
    "* 시간복잡도 : O(N2) => N + N-1 + N-2 + ... + 1"
   ]
  },
  {
   "cell_type": "markdown",
   "metadata": {},
   "source": [
    "> But, O(N2)의 시간복잡도는 알고리즘을 해결하기엔 긴 시간!"
   ]
  },
  {
   "cell_type": "markdown",
   "metadata": {},
   "source": [
    "### 쾌속정렬 (quick sort)\n",
    "* 앞에서부터 하나씩 가운데에 두고 왼쪽엔 그 피벗보다 작은 수들, 오른쪽엔 더 큰 수들이 오게 옮기는 과정을 반복한다\n",
    "* 시간복잡도 : O(NlogN) => T(N) = 2T(N/2) + N \n",
    "> * T(N) : N개의 수들을 정렬하는데 걸리는 총 시간\n",
    "> * 2T(N/2) : 양쪽 각각 절반씩 정렬하는데 걸리는 시간\n",
    "> * N : 각 피벗 기준으로 왼쪽, 오른쪽 대소 비교하려면 전체 다 봐야 함"
   ]
  },
  {
   "cell_type": "markdown",
   "metadata": {},
   "source": [
    "#### 유클리드 호제법 (**암기!!**)\n",
    "GCD(a, b) = GCD(b, a % b)"
   ]
  },
  {
   "cell_type": "code",
   "execution_count": 1,
   "metadata": {},
   "outputs": [],
   "source": [
    "# 최대공약수(gcd) sol1\n",
    "def gcd(a, b):\n",
    "    ret = 0\n",
    "    for i in range(min(a, b)): # 1부터 체크\n",
    "        if a % i == 0 and b % i == 0:\n",
    "            ret = i\n",
    "    return ret"
   ]
  }
 ],
 "metadata": {
  "kernelspec": {
   "display_name": "Python 3",
   "language": "python",
   "name": "python3"
  },
  "language_info": {
   "codemirror_mode": {
    "name": "ipython",
    "version": 3
   },
   "file_extension": ".py",
   "mimetype": "text/x-python",
   "name": "python",
   "nbconvert_exporter": "python",
   "pygments_lexer": "ipython3",
   "version": "3.8.5"
  }
 },
 "nbformat": 4,
 "nbformat_minor": 4
}
