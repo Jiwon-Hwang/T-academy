{
 "cells": [
  {
   "cell_type": "markdown",
   "metadata": {},
   "source": [
    "### 스택 (stack)\n",
    "* FILO (First In Last Out)\n",
    "* push(append), pop\n",
    "* 괄호문자열 문제 -> error 상황? (올바르지 않은 문자열의 상황)  \n",
    "    * 1. 스택이 비어있을 때 ')' 가 들어올 때\n",
    "    * 2. 문자열 전체 검사가 끝난 후, len(스택) > 0 일 때  \n",
    "* 스택 : 주로 **배열**로 구현"
   ]
  },
  {
   "cell_type": "markdown",
   "metadata": {},
   "source": [
    "### 큐 (queue)\n",
    "* FIFO (First In Fist Out)\n",
    "* push(append), pop\n",
    "* 괄호문자열 문제 -> error 상황? (올바르지 않은 문자열의 상황)  \n",
    "    * 1. 스택이 비어있을 때 ')' 가 들어올 때\n",
    "    * 2. 문자열 전체 검사가 끝난 후, len(스택) > 0 일 때  \n",
    "* 큐 : 주로 **덱(deque)** 으로 구현  \n",
    "> ```py\n",
    "from collections import deque\n",
    "```"
   ]
  },
  {
   "cell_type": "markdown",
   "metadata": {},
   "source": [
    "cf. 일반 배열 대신 스택과 큐 사용하는 이유?   \n",
    "> 메모리를 줄이며 잘 쓰기 위해! (배열로 구현해도 되지만, 이미 사용하고 나서 쓸모 없는 애들은 처리하기 위해)"
   ]
  },
  {
   "cell_type": "markdown",
   "metadata": {},
   "source": [
    "### 덱 (deque)\n",
    "* 스택 + 큐\n",
    "* 양 방향에서 push, pop 가능\n",
    "* 덱 : **덱(deque)** 으로 구현\n",
    "* 큐 : 주로 **덱(deque)** 으로 구현  \n",
    "> ```py\n",
    "from collections import deque  \n",
    "```"
   ]
  },
  {
   "cell_type": "markdown",
   "metadata": {},
   "source": [
    "요세푸스 순열 문제 ex)"
   ]
  },
  {
   "cell_type": "code",
   "execution_count": 4,
   "metadata": {},
   "outputs": [
    {
     "name": "stdout",
     "output_type": "stream",
     "text": [
      "7 3\n",
      "<3, 6, 2, 7, 5, 1, 4>\n",
      "[3, 6, 2, 7, 5, 1, 4]\n"
     ]
    }
   ],
   "source": [
    "from collections import deque  \n",
    "\n",
    "N, K = map(int, input().split())\n",
    "\n",
    "dq = deque(range(1, N+1))\n",
    "ans = list()\n",
    "\n",
    "while len(dq):\n",
    "    dq.rotate(-K+1) # rotate : 맨 앞에꺼를 맨 뒤로 옮기며 나머지 다 땡김\n",
    "    ans.append(dq.popleft()) # deque는 popleft와 popright가 있음\n",
    "    \n",
    "print(f\"<{str(ans)[1:-1]}>\") # fstring 방식\n",
    "print(str(ans)) # ans : list ([]꼴)"
   ]
  },
  {
   "cell_type": "markdown",
   "metadata": {},
   "source": [
    "### format, fstring"
   ]
  },
  {
   "cell_type": "code",
   "execution_count": 5,
   "metadata": {},
   "outputs": [
    {
     "name": "stdout",
     "output_type": "stream",
     "text": [
      "apple is apple\n"
     ]
    }
   ],
   "source": [
    "# format을 이용한 출력\n",
    "print(\"{} is apple\".format('apple'))"
   ]
  },
  {
   "cell_type": "code",
   "execution_count": 8,
   "metadata": {},
   "outputs": [
    {
     "name": "stdout",
     "output_type": "stream",
     "text": [
      "banana is banana\n"
     ]
    }
   ],
   "source": [
    "# format을 이용한 출력\n",
    "b = 'banana'\n",
    "print(\"{} is banana\".format(b)) # 변수를 이용한 출력도 가능"
   ]
  },
  {
   "cell_type": "code",
   "execution_count": 6,
   "metadata": {},
   "outputs": [
    {
     "name": "stdout",
     "output_type": "stream",
     "text": [
      "apple is apple\n"
     ]
    }
   ],
   "source": [
    "# fstring\n",
    "a = 'apple'\n",
    "print(f'{a} is apple') # 변수를 이용한 출력"
   ]
  }
 ],
 "metadata": {
  "kernelspec": {
   "display_name": "Python 3",
   "language": "python",
   "name": "python3"
  },
  "language_info": {
   "codemirror_mode": {
    "name": "ipython",
    "version": 3
   },
   "file_extension": ".py",
   "mimetype": "text/x-python",
   "name": "python",
   "nbconvert_exporter": "python",
   "pygments_lexer": "ipython3",
   "version": "3.8.5"
  }
 },
 "nbformat": 4,
 "nbformat_minor": 4
}
